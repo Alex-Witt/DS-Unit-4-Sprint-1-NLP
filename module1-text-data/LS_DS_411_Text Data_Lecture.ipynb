{
 "cells": [
  {
   "cell_type": "markdown",
   "metadata": {
    "toc-hr-collapsed": false
   },
   "source": [
    "<img align=\"left\" src=\"https://lever-client-logos.s3.amazonaws.com/864372b1-534c-480e-acd5-9711f850815c-1524247202159.png\" width=200>\n",
    "<br></br>\n",
    "<br></br>\n",
    "\n",
    "# Natural Language Processing (NLP) \n",
    "\n",
    "## *Data Science Unit 4 Sprint 1 Lesson 1*\n",
    "\n",
    "\"Natural\" meaning - not computer languages but spoken/written human languages. The hard thing about NLP is that human languages are far less structured or consistent than computer languages. This is perhaps the largest source of difficulty when trying to get computers to \"understand\" human languages. How do you get a machine to understand sarcasm, and irony, and synonyms, connotation, denotation, nuance, and tone of voice --all without it having lived a lifetime of experience for context? If you think about it, our human brains have been exposed to quite a lot of training data to help us interpret languages, and even then we misunderstand each other pretty frequently. \n",
    "\n",
    "## Learning Objectives\n",
    "* <a href=\"#p1\">Part 1</a>: Tokenizing Text\n",
    "* <a href=\"#p2\">Part 2</a>: Removing Stop Words\n",
    "* <a href=\"#p3\">Part 3</a>: Stemming & Lemmatization"
   ]
  },
  {
   "cell_type": "code",
   "execution_count": 1,
   "metadata": {},
   "outputs": [
    {
     "name": "stdout",
     "output_type": "stream",
     "text": [
      "LS_DS_411_Text Data_Lecture.ipynb    \u001b[34mdata\u001b[m\u001b[m\n",
      "LS_DS_421_Text_Data_Assignment.ipynb \u001b[34mimages\u001b[m\u001b[m\n",
      "LS_DS_421_Text_Data_Lecture.ipynb\n"
     ]
    }
   ],
   "source": [
    "!ls"
   ]
  },
  {
   "cell_type": "code",
   "execution_count": 1,
   "metadata": {},
   "outputs": [],
   "source": [
    "\"\"\"\n",
    "Import Statements\n",
    "\"\"\"\n",
    "\n",
    "# Base\n",
    "from collections import Counter\n",
    "import re\n",
    "import dask.dataframe as dd\n",
    "import pandas as pd\n",
    "\n",
    "# Plotting\n",
    "import squarify\n",
    "import matplotlib.pyplot as plt\n",
    "import seaborn as sns\n",
    "\n",
    "# NLP Libraries\n",
    "import spacy\n",
    "from spacy.tokenizer import Tokenizer\n",
    "from nltk.stem import PorterStemmer\n",
    "\n",
    "nlp = spacy.load(\"en_core_web_sm\")"
   ]
  },
  {
   "cell_type": "markdown",
   "metadata": {
    "toc-hr-collapsed": false
   },
   "source": [
    "## Tokenizing Text\n",
    "<a id=\"p1\"></a>\n",
    "\n",
    "> **token**: an instance of a sequence of characters in some particular document that are grouped together as a useful semantic unit for processing\n",
    "\n",
    "> [_*Introduction to Information Retrival*_](https://nlp.stanford.edu/IR-book/)\n",
    "\n",
    "\n",
    "- Build out Amazon case study\n",
    "- Data found on [Kaggle](https://www.kaggle.com/datafiniti/consumer-reviews-of-amazon-products/)"
   ]
  },
  {
   "cell_type": "markdown",
   "metadata": {
    "toc-hr-collapsed": false
   },
   "source": [
    "### Tokenizing with Pure Python"
   ]
  },
  {
   "cell_type": "code",
   "execution_count": 10,
   "metadata": {},
   "outputs": [],
   "source": [
    "df = pd.read_csv('./data/Datafiniti_Amazon_Consumer_Reviews_of_Amazon_Products_May19.csv')"
   ]
  },
  {
   "cell_type": "code",
   "execution_count": 11,
   "metadata": {},
   "outputs": [
    {
     "data": {
      "text/plain": [
       "['id',\n",
       " 'dateAdded',\n",
       " 'dateUpdated',\n",
       " 'name',\n",
       " 'asins',\n",
       " 'brand',\n",
       " 'categories',\n",
       " 'primaryCategories',\n",
       " 'imageURLs',\n",
       " 'keys',\n",
       " 'manufacturer',\n",
       " 'manufacturerNumber',\n",
       " 'reviews.date',\n",
       " 'reviews.dateSeen',\n",
       " 'reviews.didPurchase',\n",
       " 'reviews.doRecommend',\n",
       " 'reviews.id',\n",
       " 'reviews.numHelpful',\n",
       " 'reviews.rating',\n",
       " 'reviews.sourceURLs',\n",
       " 'reviews.text',\n",
       " 'reviews.title',\n",
       " 'reviews.username',\n",
       " 'sourceURLs']"
      ]
     },
     "execution_count": 11,
     "metadata": {},
     "output_type": "execute_result"
    }
   ],
   "source": [
    "list(df)"
   ]
  },
  {
   "cell_type": "code",
   "execution_count": null,
   "metadata": {},
   "outputs": [],
   "source": [
    "# How can we count the raw text?\n"
   ]
  },
  {
   "cell_type": "markdown",
   "metadata": {
    "toc-hr-collapsed": true
   },
   "source": [
    "#### The attributes of atrributes of good tokens\n",
    "\n",
    "* Should be stored in an iterable datastructure\n",
    "  - Allows analysis of the \"semantic unit\"\n",
    "* Should be all the same case\n",
    "  - Reduces the complexity of our data\n",
    "* Should be free of non-alphanumeric characters (ie punctuation, whitespace)\n",
    "  - Removes information that is probably not relevant to the analysis"
   ]
  },
  {
   "cell_type": "code",
   "execution_count": 12,
   "metadata": {},
   "outputs": [],
   "source": [
    "sample = \"Friends, Romans, countrymen, lend me your ears;\""
   ]
  },
  {
   "cell_type": "markdown",
   "metadata": {},
   "source": [
    "##### Iterable Tokens\n",
    "\n",
    "A string object in Python is already iterable. However, the item you iterate over is a character not a token:\n",
    "\n",
    "```\n",
    "from time import sleep\n",
    "for num, character in enumerate(sample):\n",
    "    sleep(.5)\n",
    "    print(f\"Char {num} - {character}\", end=\"\\r\")\n",
    "```\n",
    "\n",
    "If we instead care about the words in our sample (our semantic unit), we can use the string method `.split()` to seperate the whitespace and create iterable units. :)"
   ]
  },
  {
   "cell_type": "code",
   "execution_count": 17,
   "metadata": {},
   "outputs": [
    {
     "data": {
      "text/plain": [
       "['Friends', ' Romans', ' countrymen', ' lend me your ears;']"
      ]
     },
     "execution_count": 17,
     "metadata": {},
     "output_type": "execute_result"
    }
   ],
   "source": [
    "sample.split(\",\")"
   ]
  },
  {
   "cell_type": "markdown",
   "metadata": {},
   "source": [
    "##### Case Normalization\n",
    "A common data cleaning data cleaning task with token is to standardize or normalize the case. Normalizing case reduces the chance that you have duplicate records for things which have practically the same semantic meaning. You can use either the `.lower()` or `.upper()` string methods to normalize case.\n",
    "\n",
    "Consider the following example: "
   ]
  },
  {
   "cell_type": "code",
   "execution_count": 18,
   "metadata": {},
   "outputs": [
    {
     "data": {
      "text/plain": [
       "Amazon          16153\n",
       "Amazonbasics    12169\n",
       "AmazonBasics       10\n",
       "Name: brand, dtype: int64"
      ]
     },
     "execution_count": 18,
     "metadata": {},
     "output_type": "execute_result"
    }
   ],
   "source": [
    "# Notice anything odd here? \n",
    "\n",
    "df['brand'].value_counts()"
   ]
  },
  {
   "cell_type": "code",
   "execution_count": 20,
   "metadata": {},
   "outputs": [
    {
     "data": {
      "text/plain": [
       "amazon          16153\n",
       "amazonbasics    12179\n",
       "Name: brand, dtype: int64"
      ]
     },
     "execution_count": 20,
     "metadata": {},
     "output_type": "execute_result"
    }
   ],
   "source": [
    "# Much cleaner\n",
    "df['brand'].apply(lambda x: x.lower()).value_counts()"
   ]
  },
  {
   "cell_type": "markdown",
   "metadata": {},
   "source": [
    "##### Keep Only Alphanumeric Characters\n",
    "Yes, we only want letters and numbers. Everything else is probably noise: punctionation, whitespace, and other notation. This one is little bit more complicatd than our previous example. Here we will have to import the base package `re` (regular expressions). \n",
    "\n",
    "The only regex expression pattern you need for this is `'[^a-zA-Z ^0-9]'` which keeps lower case letters, upper case letters, spaces, and numbers."
   ]
  },
  {
   "cell_type": "code",
   "execution_count": 21,
   "metadata": {},
   "outputs": [
    {
     "data": {
      "text/plain": [
       "'Friends Romans countrymen lend me your ears 007 911'"
      ]
     },
     "execution_count": 21,
     "metadata": {},
     "output_type": "execute_result"
    }
   ],
   "source": [
    "import re\n",
    "\n",
    "re.sub(r'[^a-zA-Z ^0-9]', '', sample+\" 007 911\")"
   ]
  },
  {
   "cell_type": "markdown",
   "metadata": {},
   "source": [
    "#### Two Minute Challenge \n",
    "- Complete the function `tokenize` below\n",
    "- Combine the methods which we discussed above to clean text before we analyze it\n",
    "- You can put the methods in any order you want"
   ]
  },
  {
   "cell_type": "code",
   "execution_count": 26,
   "metadata": {},
   "outputs": [],
   "source": [
    "def tokenize(text):\n",
    "    \"\"\"Parses a string into a list of semantic units (words)\n",
    "\n",
    "    Args:\n",
    "        text (str): The string that the function will tokenize.\n",
    "\n",
    "    Returns:\n",
    "        list: tokens parsed out by the mechanics of your choice\n",
    "    \"\"\"\n",
    "    \n",
    "    tokens = re.sub(r'[^a-zA-Z ^0-9]', '', text)\n",
    "    text = text.lower()\n",
    "    \n",
    "    \n",
    "    return tokens"
   ]
  },
  {
   "cell_type": "code",
   "execution_count": 25,
   "metadata": {},
   "outputs": [
    {
     "ename": "TypeError",
     "evalue": "expected string or bytes-like object",
     "output_type": "error",
     "traceback": [
      "\u001b[0;31m---------------------------------------------------------------------------\u001b[0m",
      "\u001b[0;31mTypeError\u001b[0m                                 Traceback (most recent call last)",
      "\u001b[0;32m<ipython-input-25-ecb0dd923ea7>\u001b[0m in \u001b[0;36m<module>\u001b[0;34m\u001b[0m\n\u001b[0;32m----> 1\u001b[0;31m \u001b[0mtokenize\u001b[0m\u001b[0;34m(\u001b[0m\u001b[0msample\u001b[0m\u001b[0;34m)\u001b[0m\u001b[0;34m\u001b[0m\u001b[0;34m\u001b[0m\u001b[0m\n\u001b[0m",
      "\u001b[0;32m<ipython-input-24-d113f90fcd57>\u001b[0m in \u001b[0;36mtokenize\u001b[0;34m(text)\u001b[0m\n\u001b[1;32m     10\u001b[0m \u001b[0;34m\u001b[0m\u001b[0m\n\u001b[1;32m     11\u001b[0m     \u001b[0mtext\u001b[0m \u001b[0;34m=\u001b[0m \u001b[0mtext\u001b[0m\u001b[0;34m.\u001b[0m\u001b[0mlower\u001b[0m\u001b[0;34m(\u001b[0m\u001b[0;34m)\u001b[0m\u001b[0;34m.\u001b[0m\u001b[0msplit\u001b[0m\u001b[0;34m(\u001b[0m\u001b[0;34m)\u001b[0m\u001b[0;34m\u001b[0m\u001b[0;34m\u001b[0m\u001b[0m\n\u001b[0;32m---> 12\u001b[0;31m     \u001b[0mtokens\u001b[0m \u001b[0;34m=\u001b[0m \u001b[0mre\u001b[0m\u001b[0;34m.\u001b[0m\u001b[0msub\u001b[0m\u001b[0;34m(\u001b[0m\u001b[0;34mr'[^a-zA-Z ^0-9]'\u001b[0m\u001b[0;34m,\u001b[0m \u001b[0;34m''\u001b[0m\u001b[0;34m,\u001b[0m \u001b[0mtext\u001b[0m\u001b[0;34m)\u001b[0m\u001b[0;34m\u001b[0m\u001b[0;34m\u001b[0m\u001b[0m\n\u001b[0m\u001b[1;32m     13\u001b[0m \u001b[0;34m\u001b[0m\u001b[0m\n\u001b[1;32m     14\u001b[0m     \u001b[0;32mreturn\u001b[0m \u001b[0mtokens\u001b[0m\u001b[0;34m\u001b[0m\u001b[0;34m\u001b[0m\u001b[0m\n",
      "\u001b[0;32m/anaconda3/envs/U4-S1-NLP/lib/python3.7/re.py\u001b[0m in \u001b[0;36msub\u001b[0;34m(pattern, repl, string, count, flags)\u001b[0m\n\u001b[1;32m    190\u001b[0m     \u001b[0ma\u001b[0m \u001b[0mcallable\u001b[0m\u001b[0;34m,\u001b[0m \u001b[0mit\u001b[0m\u001b[0;31m'\u001b[0m\u001b[0ms\u001b[0m \u001b[0mpassed\u001b[0m \u001b[0mthe\u001b[0m \u001b[0mMatch\u001b[0m \u001b[0mobject\u001b[0m \u001b[0;32mand\u001b[0m \u001b[0mmust\u001b[0m \u001b[0;32mreturn\u001b[0m\u001b[0;34m\u001b[0m\u001b[0;34m\u001b[0m\u001b[0m\n\u001b[1;32m    191\u001b[0m     a replacement string to be used.\"\"\"\n\u001b[0;32m--> 192\u001b[0;31m     \u001b[0;32mreturn\u001b[0m \u001b[0m_compile\u001b[0m\u001b[0;34m(\u001b[0m\u001b[0mpattern\u001b[0m\u001b[0;34m,\u001b[0m \u001b[0mflags\u001b[0m\u001b[0;34m)\u001b[0m\u001b[0;34m.\u001b[0m\u001b[0msub\u001b[0m\u001b[0;34m(\u001b[0m\u001b[0mrepl\u001b[0m\u001b[0;34m,\u001b[0m \u001b[0mstring\u001b[0m\u001b[0;34m,\u001b[0m \u001b[0mcount\u001b[0m\u001b[0;34m)\u001b[0m\u001b[0;34m\u001b[0m\u001b[0;34m\u001b[0m\u001b[0m\n\u001b[0m\u001b[1;32m    193\u001b[0m \u001b[0;34m\u001b[0m\u001b[0m\n\u001b[1;32m    194\u001b[0m \u001b[0;32mdef\u001b[0m \u001b[0msubn\u001b[0m\u001b[0;34m(\u001b[0m\u001b[0mpattern\u001b[0m\u001b[0;34m,\u001b[0m \u001b[0mrepl\u001b[0m\u001b[0;34m,\u001b[0m \u001b[0mstring\u001b[0m\u001b[0;34m,\u001b[0m \u001b[0mcount\u001b[0m\u001b[0;34m=\u001b[0m\u001b[0;36m0\u001b[0m\u001b[0;34m,\u001b[0m \u001b[0mflags\u001b[0m\u001b[0;34m=\u001b[0m\u001b[0;36m0\u001b[0m\u001b[0;34m)\u001b[0m\u001b[0;34m:\u001b[0m\u001b[0;34m\u001b[0m\u001b[0;34m\u001b[0m\u001b[0m\n",
      "\u001b[0;31mTypeError\u001b[0m: expected string or bytes-like object"
     ]
    }
   ],
   "source": [
    "df['tokens'] = df['reviews.text'].apply(tokenize())"
   ]
  },
  {
   "cell_type": "markdown",
   "metadata": {},
   "source": [
    "#### Analyzing Tokens"
   ]
  },
  {
   "cell_type": "code",
   "execution_count": null,
   "metadata": {},
   "outputs": [],
   "source": [
    "# Object from Base Python\n",
    "from collections import Counter\n",
    "\n",
    "# The object `Counter` takes an iterable, but you can instaniate an empty one and update it. \n",
    "word_counts = Counter()\n",
    "\n",
    "# Update it based on a split of each of our documents\n",
    "df['tokens'].apply(lambda x: word_counts.update(x))\n",
    "\n",
    "# Print out the 10 most common words\n",
    "print(word_counts.most_common(10))"
   ]
  },
  {
   "cell_type": "code",
   "execution_count": 33,
   "metadata": {},
   "outputs": [],
   "source": [
    "def count(docs):\n",
    "\n",
    "        word_counts = Counter()\n",
    "        appears_in = Counter()\n",
    "        \n",
    "        total_docs = len(docs)\n",
    "\n",
    "        for doc in docs:\n",
    "            word_counts.update(doc)\n",
    "            appears_in.update(set(doc))\n",
    "\n",
    "        temp = zip(word_counts.keys(), word_counts.values())\n",
    "        \n",
    "        wc = pd.DataFrame(temp, columns = ['word', 'count'])\n",
    "\n",
    "        wc['rank'] = wc['count'].rank(method='first', ascending=False)\n",
    "        total = wc['count'].sum()\n",
    "\n",
    "        wc['pct_total'] = wc['count'].apply(lambda x: x / total)\n",
    "        \n",
    "        wc = wc.sort_values(by='rank')\n",
    "        wc['cul_pct_total'] = wc['pct_total'].cumsum()\n",
    "\n",
    "        t2 = zip(appears_in.keys(), appears_in.values())\n",
    "        ac = pd.DataFrame(t2, columns=['word', 'appears_in'])\n",
    "        wc = ac.merge(wc, on='word')\n",
    "\n",
    "        wc['appears_in_pct'] = wc['appears_in'].apply(lambda x: x / total_docs)\n",
    "        \n",
    "        return wc.sort_values(by='rank')"
   ]
  },
  {
   "cell_type": "code",
   "execution_count": null,
   "metadata": {},
   "outputs": [],
   "source": [
    "# Use the Function\n",
    "wc = count(df['tokens'])"
   ]
  },
  {
   "cell_type": "code",
   "execution_count": null,
   "metadata": {},
   "outputs": [],
   "source": [
    "wc.head()"
   ]
  },
  {
   "cell_type": "code",
   "execution_count": null,
   "metadata": {},
   "outputs": [],
   "source": [
    "import seaborn as sns\n",
    "\n",
    "# Cumulative Distribution Plot\n",
    "sns.lineplot(x='rank', y='cul_pct_total', data=wc)"
   ]
  },
  {
   "cell_type": "code",
   "execution_count": null,
   "metadata": {},
   "outputs": [],
   "source": [
    "wc[wc['rank'] <80]['cul_pct_total']"
   ]
  },
  {
   "cell_type": "code",
   "execution_count": null,
   "metadata": {},
   "outputs": [],
   "source": [
    "import squarify\n",
    "import matplotlib.pyplot as plt\n",
    "\n",
    "wc_top20 = wc[wc['rank'] <= 20]\n",
    "\n",
    "squarify.plot(sizes=wc_top20['pct_total'], label=wc_top20['word'], alpha=.8 )\n",
    "plt.axis('off')\n",
    "plt.show()"
   ]
  },
  {
   "cell_type": "markdown",
   "metadata": {},
   "source": [
    "### Processing Raw Text with Spacy\n",
    "Should answer the \"why\" of Spacy while recreating steps from above using same visualization\n",
    "\n",
    "Spacy's datamodel for documents is unique among NLP libraries. Instead of storing the documents components repeatively in various datastructures, Spacy indexes components and simply stores the lookup informaiton. \n",
    "\n",
    "This is often why Spacy is considered to be more production grade than library like NLTK."
   ]
  },
  {
   "cell_type": "code",
   "execution_count": 22,
   "metadata": {},
   "outputs": [],
   "source": [
    "import spacy\n",
    "from spacy.tokenizer import Tokenizer\n",
    "\n",
    "nlp = spacy.load(\"en_core_web_sm\")\n",
    "\n",
    "tokenizer = Tokenizer(nlp.vocab)"
   ]
  },
  {
   "cell_type": "code",
   "execution_count": 28,
   "metadata": {},
   "outputs": [
    {
     "data": {
      "text/plain": [
       "['Friends,', 'Romans,', 'countrymen,', 'lend', 'me', 'your', 'ears;']"
      ]
     },
     "execution_count": 28,
     "metadata": {},
     "output_type": "execute_result"
    }
   ],
   "source": [
    "[token.text for token in tokenizer(sample)]"
   ]
  },
  {
   "cell_type": "code",
   "execution_count": 29,
   "metadata": {},
   "outputs": [],
   "source": [
    "# Tokenizer Pipe\n",
    "\n",
    "tokens = []\n",
    "\n",
    "for doc in tokenizer.pipe(df['reviews.text'], batch_size=500):\n",
    "    doc_tokens = [token.text for token in doc]\n",
    "    tokens.append(doc_tokens)\n",
    "    \n",
    "df['tokens'] = tokens"
   ]
  },
  {
   "cell_type": "code",
   "execution_count": 30,
   "metadata": {},
   "outputs": [
    {
     "data": {
      "text/plain": [
       "0    [I, order, 3, of, them, and, one, of, the, ite...\n",
       "1    [Bulk, is, always, the, less, expensive, way, ...\n",
       "2    [Well, they, are, not, Duracell, but, for, the...\n",
       "3    [Seem, to, work, as, well, as, name, brand, ba...\n",
       "4    [These, batteries, are, very, long, lasting, t...\n",
       "Name: tokens, dtype: object"
      ]
     },
     "execution_count": 30,
     "metadata": {},
     "output_type": "execute_result"
    }
   ],
   "source": [
    "df['tokens'].head()"
   ]
  },
  {
   "cell_type": "code",
   "execution_count": 34,
   "metadata": {},
   "outputs": [],
   "source": [
    "wc = count(df['tokens'])"
   ]
  },
  {
   "cell_type": "code",
   "execution_count": 35,
   "metadata": {},
   "outputs": [
    {
     "data": {
      "text/html": [
       "<div>\n",
       "<style scoped>\n",
       "    .dataframe tbody tr th:only-of-type {\n",
       "        vertical-align: middle;\n",
       "    }\n",
       "\n",
       "    .dataframe tbody tr th {\n",
       "        vertical-align: top;\n",
       "    }\n",
       "\n",
       "    .dataframe thead th {\n",
       "        text-align: right;\n",
       "    }\n",
       "</style>\n",
       "<table border=\"1\" class=\"dataframe\">\n",
       "  <thead>\n",
       "    <tr style=\"text-align: right;\">\n",
       "      <th></th>\n",
       "      <th>word</th>\n",
       "      <th>appears_in</th>\n",
       "      <th>count</th>\n",
       "      <th>rank</th>\n",
       "      <th>pct_total</th>\n",
       "      <th>cul_pct_total</th>\n",
       "      <th>appears_in_pct</th>\n",
       "    </tr>\n",
       "  </thead>\n",
       "  <tbody>\n",
       "    <tr>\n",
       "      <th>24</th>\n",
       "      <td>the</td>\n",
       "      <td>12316</td>\n",
       "      <td>25154</td>\n",
       "      <td>1.0</td>\n",
       "      <td>0.034219</td>\n",
       "      <td>0.034219</td>\n",
       "      <td>0.434703</td>\n",
       "    </tr>\n",
       "    <tr>\n",
       "      <th>16</th>\n",
       "      <td>and</td>\n",
       "      <td>13541</td>\n",
       "      <td>21850</td>\n",
       "      <td>2.0</td>\n",
       "      <td>0.029725</td>\n",
       "      <td>0.063944</td>\n",
       "      <td>0.477940</td>\n",
       "    </tr>\n",
       "    <tr>\n",
       "      <th>15</th>\n",
       "      <td>I</td>\n",
       "      <td>9913</td>\n",
       "      <td>19762</td>\n",
       "      <td>3.0</td>\n",
       "      <td>0.026884</td>\n",
       "      <td>0.090828</td>\n",
       "      <td>0.349887</td>\n",
       "    </tr>\n",
       "    <tr>\n",
       "      <th>17</th>\n",
       "      <td>to</td>\n",
       "      <td>11227</td>\n",
       "      <td>19324</td>\n",
       "      <td>4.0</td>\n",
       "      <td>0.026288</td>\n",
       "      <td>0.117117</td>\n",
       "      <td>0.396266</td>\n",
       "    </tr>\n",
       "    <tr>\n",
       "      <th>34</th>\n",
       "      <td>for</td>\n",
       "      <td>11790</td>\n",
       "      <td>17197</td>\n",
       "      <td>5.0</td>\n",
       "      <td>0.023395</td>\n",
       "      <td>0.140512</td>\n",
       "      <td>0.416137</td>\n",
       "    </tr>\n",
       "  </tbody>\n",
       "</table>\n",
       "</div>"
      ],
      "text/plain": [
       "   word  appears_in  count  rank  pct_total  cul_pct_total  appears_in_pct\n",
       "24  the       12316  25154   1.0   0.034219       0.034219        0.434703\n",
       "16  and       13541  21850   2.0   0.029725       0.063944        0.477940\n",
       "15    I        9913  19762   3.0   0.026884       0.090828        0.349887\n",
       "17   to       11227  19324   4.0   0.026288       0.117117        0.396266\n",
       "34  for       11790  17197   5.0   0.023395       0.140512        0.416137"
      ]
     },
     "execution_count": 35,
     "metadata": {},
     "output_type": "execute_result"
    }
   ],
   "source": [
    "wc.head()"
   ]
  },
  {
   "cell_type": "code",
   "execution_count": 36,
   "metadata": {},
   "outputs": [
    {
     "data": {
      "image/png": "[encoded data removed]",
      "text/plain": [
       "<Figure size 432x288 with 1 Axes>"
      ]
     },
     "metadata": {
      "needs_background": "light"
     },
     "output_type": "display_data"
    }
   ],
   "source": [
    "wc_top20 = wc[wc['rank'] <= 20]\n",
    "\n",
    "squarify.plot(sizes=wc_top20['pct_total'], label=wc_top20['word'], alpha=.8 )\n",
    "plt.axis('off')\n",
    "plt.show()"
   ]
  },
  {
   "cell_type": "markdown",
   "metadata": {},
   "source": [
    "## Stop Words\n",
    "<a id=\"p2\"></a>\n",
    "\n",
    "Section Agenda\n",
    "- What are they?\n",
    "- How do we get rid of them using Spacy?\n",
    "- Visualization\n",
    "- Libraries of Stop Words\n",
    "- Extending Stop Words\n",
    "- Statistical trimming\n",
    "\n",
    "If the visualizations above, you began to notice a pattern. Most of the words don't really add much to our undertanding of product reviews. Words such as \"I\", \"and\", \"of\", etc. have almost no semantic meaning to us. We call these useless words \"stop words,\" because we should 'stop' ourselves from including them in the analysis. \n",
    "\n",
    "Most NLP libraries have built in lists of stop words that common english words: conjunctions, articles, adverbs, pronouns, and common verbs. The best practice, however, is to extend/customize these standard english stopwords for your problem's domain. If I am studying political science, I may want to exclude the word \"politics\" from my analysis; it's so common it does not add to my understanding. "
   ]
  },
  {
   "cell_type": "markdown",
   "metadata": {},
   "source": [
    "### Default Stop Words\n",
    "Let's take a look at the standard stop words that came with our spacy model:"
   ]
  },
  {
   "cell_type": "code",
   "execution_count": 37,
   "metadata": {},
   "outputs": [
    {
     "data": {
      "text/plain": [
       "{'a',\n",
       " 'about',\n",
       " 'above',\n",
       " 'across',\n",
       " 'after',\n",
       " 'afterwards',\n",
       " 'again',\n",
       " 'against',\n",
       " 'all',\n",
       " 'almost',\n",
       " 'alone',\n",
       " 'along',\n",
       " 'already',\n",
       " 'also',\n",
       " 'although',\n",
       " 'always',\n",
       " 'am',\n",
       " 'among',\n",
       " 'amongst',\n",
       " 'amount',\n",
       " 'an',\n",
       " 'and',\n",
       " 'another',\n",
       " 'any',\n",
       " 'anyhow',\n",
       " 'anyone',\n",
       " 'anything',\n",
       " 'anyway',\n",
       " 'anywhere',\n",
       " 'are',\n",
       " 'around',\n",
       " 'as',\n",
       " 'at',\n",
       " 'back',\n",
       " 'be',\n",
       " 'became',\n",
       " 'because',\n",
       " 'become',\n",
       " 'becomes',\n",
       " 'becoming',\n",
       " 'been',\n",
       " 'before',\n",
       " 'beforehand',\n",
       " 'behind',\n",
       " 'being',\n",
       " 'below',\n",
       " 'beside',\n",
       " 'besides',\n",
       " 'between',\n",
       " 'beyond',\n",
       " 'both',\n",
       " 'bottom',\n",
       " 'but',\n",
       " 'by',\n",
       " 'ca',\n",
       " 'call',\n",
       " 'can',\n",
       " 'cannot',\n",
       " 'could',\n",
       " 'did',\n",
       " 'do',\n",
       " 'does',\n",
       " 'doing',\n",
       " 'done',\n",
       " 'down',\n",
       " 'due',\n",
       " 'during',\n",
       " 'each',\n",
       " 'eight',\n",
       " 'either',\n",
       " 'eleven',\n",
       " 'else',\n",
       " 'elsewhere',\n",
       " 'empty',\n",
       " 'enough',\n",
       " 'even',\n",
       " 'ever',\n",
       " 'every',\n",
       " 'everyone',\n",
       " 'everything',\n",
       " 'everywhere',\n",
       " 'except',\n",
       " 'few',\n",
       " 'fifteen',\n",
       " 'fifty',\n",
       " 'first',\n",
       " 'five',\n",
       " 'for',\n",
       " 'former',\n",
       " 'formerly',\n",
       " 'forty',\n",
       " 'four',\n",
       " 'from',\n",
       " 'front',\n",
       " 'full',\n",
       " 'further',\n",
       " 'get',\n",
       " 'give',\n",
       " 'go',\n",
       " 'had',\n",
       " 'has',\n",
       " 'have',\n",
       " 'he',\n",
       " 'hence',\n",
       " 'her',\n",
       " 'here',\n",
       " 'hereafter',\n",
       " 'hereby',\n",
       " 'herein',\n",
       " 'hereupon',\n",
       " 'hers',\n",
       " 'herself',\n",
       " 'him',\n",
       " 'himself',\n",
       " 'his',\n",
       " 'how',\n",
       " 'however',\n",
       " 'hundred',\n",
       " 'i',\n",
       " 'if',\n",
       " 'in',\n",
       " 'indeed',\n",
       " 'into',\n",
       " 'is',\n",
       " 'it',\n",
       " 'its',\n",
       " 'itself',\n",
       " 'just',\n",
       " 'keep',\n",
       " 'last',\n",
       " 'latter',\n",
       " 'latterly',\n",
       " 'least',\n",
       " 'less',\n",
       " 'made',\n",
       " 'make',\n",
       " 'many',\n",
       " 'may',\n",
       " 'me',\n",
       " 'meanwhile',\n",
       " 'might',\n",
       " 'mine',\n",
       " 'more',\n",
       " 'moreover',\n",
       " 'most',\n",
       " 'mostly',\n",
       " 'move',\n",
       " 'much',\n",
       " 'must',\n",
       " 'my',\n",
       " 'myself',\n",
       " 'name',\n",
       " 'namely',\n",
       " 'neither',\n",
       " 'never',\n",
       " 'nevertheless',\n",
       " 'next',\n",
       " 'nine',\n",
       " 'no',\n",
       " 'nobody',\n",
       " 'none',\n",
       " 'noone',\n",
       " 'nor',\n",
       " 'not',\n",
       " 'nothing',\n",
       " 'now',\n",
       " 'nowhere',\n",
       " 'of',\n",
       " 'off',\n",
       " 'often',\n",
       " 'on',\n",
       " 'once',\n",
       " 'one',\n",
       " 'only',\n",
       " 'onto',\n",
       " 'or',\n",
       " 'other',\n",
       " 'others',\n",
       " 'otherwise',\n",
       " 'our',\n",
       " 'ours',\n",
       " 'ourselves',\n",
       " 'out',\n",
       " 'over',\n",
       " 'own',\n",
       " 'part',\n",
       " 'per',\n",
       " 'perhaps',\n",
       " 'please',\n",
       " 'put',\n",
       " 'quite',\n",
       " 'rather',\n",
       " 're',\n",
       " 'really',\n",
       " 'regarding',\n",
       " 'same',\n",
       " 'say',\n",
       " 'see',\n",
       " 'seem',\n",
       " 'seemed',\n",
       " 'seeming',\n",
       " 'seems',\n",
       " 'serious',\n",
       " 'several',\n",
       " 'she',\n",
       " 'should',\n",
       " 'show',\n",
       " 'side',\n",
       " 'since',\n",
       " 'six',\n",
       " 'sixty',\n",
       " 'so',\n",
       " 'some',\n",
       " 'somehow',\n",
       " 'someone',\n",
       " 'something',\n",
       " 'sometime',\n",
       " 'sometimes',\n",
       " 'somewhere',\n",
       " 'still',\n",
       " 'such',\n",
       " 'take',\n",
       " 'ten',\n",
       " 'than',\n",
       " 'that',\n",
       " 'the',\n",
       " 'their',\n",
       " 'them',\n",
       " 'themselves',\n",
       " 'then',\n",
       " 'thence',\n",
       " 'there',\n",
       " 'thereafter',\n",
       " 'thereby',\n",
       " 'therefore',\n",
       " 'therein',\n",
       " 'thereupon',\n",
       " 'these',\n",
       " 'they',\n",
       " 'third',\n",
       " 'this',\n",
       " 'those',\n",
       " 'though',\n",
       " 'three',\n",
       " 'through',\n",
       " 'throughout',\n",
       " 'thru',\n",
       " 'thus',\n",
       " 'to',\n",
       " 'together',\n",
       " 'too',\n",
       " 'top',\n",
       " 'toward',\n",
       " 'towards',\n",
       " 'twelve',\n",
       " 'twenty',\n",
       " 'two',\n",
       " 'under',\n",
       " 'unless',\n",
       " 'until',\n",
       " 'up',\n",
       " 'upon',\n",
       " 'us',\n",
       " 'used',\n",
       " 'using',\n",
       " 'various',\n",
       " 'very',\n",
       " 'via',\n",
       " 'was',\n",
       " 'we',\n",
       " 'well',\n",
       " 'were',\n",
       " 'what',\n",
       " 'whatever',\n",
       " 'when',\n",
       " 'whence',\n",
       " 'whenever',\n",
       " 'where',\n",
       " 'whereafter',\n",
       " 'whereas',\n",
       " 'whereby',\n",
       " 'wherein',\n",
       " 'whereupon',\n",
       " 'wherever',\n",
       " 'whether',\n",
       " 'which',\n",
       " 'while',\n",
       " 'whither',\n",
       " 'who',\n",
       " 'whoever',\n",
       " 'whole',\n",
       " 'whom',\n",
       " 'whose',\n",
       " 'why',\n",
       " 'will',\n",
       " 'with',\n",
       " 'within',\n",
       " 'without',\n",
       " 'would',\n",
       " 'yet',\n",
       " 'you',\n",
       " 'your',\n",
       " 'yours',\n",
       " 'yourself',\n",
       " 'yourselves'}"
      ]
     },
     "execution_count": 37,
     "metadata": {},
     "output_type": "execute_result"
    }
   ],
   "source": [
    "## Spacy's Default Stop Words\n",
    "nlp.Defaults.stop_words"
   ]
  },
  {
   "cell_type": "code",
   "execution_count": 39,
   "metadata": {},
   "outputs": [],
   "source": [
    "tokens = []\n",
    "\n",
    "for doc in tokenizer.pipe(df['reviews.text'], batch_size=500):\n",
    "    doc_tokens = []\n",
    "    \n",
    "    for token in doc:\n",
    "        if (token.is_stop == False) and (token.is_punct == False):\n",
    "            doc_tokens.append(token.text.lower())\n",
    "            \n",
    "    tokens.append(doc_tokens)\n",
    "            \n",
    "    \n",
    "df['tokens'] = tokens"
   ]
  },
  {
   "cell_type": "code",
   "execution_count": 40,
   "metadata": {},
   "outputs": [
    {
     "data": {
      "text/plain": [
       "0    [i, order, 3, item, bad, quality., is, missing...\n",
       "1               [bulk, expensive, way, products, like]\n",
       "2                      [well, duracell, price, happy.]\n",
       "3        [seem, work, brand, batteries, better, price]\n",
       "4     [these, batteries, long, lasting, price, great.]\n",
       "Name: tokens, dtype: object"
      ]
     },
     "execution_count": 40,
     "metadata": {},
     "output_type": "execute_result"
    }
   ],
   "source": [
    "df.tokens.head()"
   ]
  },
  {
   "cell_type": "code",
   "execution_count": 41,
   "metadata": {},
   "outputs": [
    {
     "data": {
      "image/png": "[encoded data removed]",
      "text/plain": [
       "<Figure size 432x288 with 1 Axes>"
      ]
     },
     "metadata": {
      "needs_background": "light"
     },
     "output_type": "display_data"
    }
   ],
   "source": [
    "wc = count(df['tokens'])\n",
    "\n",
    "wc_top20 = wc[wc['rank'] <= 20]\n",
    "\n",
    "squarify.plot(sizes=wc_top20['pct_total'], label=wc_top20['word'], alpha=.8 )\n",
    "plt.axis('off')\n",
    "plt.show()"
   ]
  },
  {
   "cell_type": "markdown",
   "metadata": {},
   "source": [
    "### Extending Stop Words\n"
   ]
  },
  {
   "cell_type": "code",
   "execution_count": null,
   "metadata": {},
   "outputs": [],
   "source": [
    "print(type(nlp.Defaults.stop_words))"
   ]
  },
  {
   "cell_type": "code",
   "execution_count": 42,
   "metadata": {},
   "outputs": [],
   "source": [
    "STOP_WORDS = nlp.Defaults.stop_words.union(['I','amazon','i','Amazon','it','its',\"it's\"])"
   ]
  },
  {
   "cell_type": "code",
   "execution_count": 44,
   "metadata": {},
   "outputs": [],
   "source": [
    "tokens = []\n",
    "\n",
    "for doc in tokenizer.pipe(df['reviews.text'], batch_size=500):\n",
    "    \n",
    "    doc_tokens = []\n",
    "    \n",
    "    for token in doc: \n",
    "        if token.text not in STOP_WORDS:\n",
    "            doc_tokens.append(token.text.lower())\n",
    "   \n",
    "    tokens.append(doc_tokens)\n",
    "    \n",
    "df['tokens'] = tokens"
   ]
  },
  {
   "cell_type": "code",
   "execution_count": 45,
   "metadata": {},
   "outputs": [
    {
     "data": {
      "text/html": [
       "<div>\n",
       "<style scoped>\n",
       "    .dataframe tbody tr th:only-of-type {\n",
       "        vertical-align: middle;\n",
       "    }\n",
       "\n",
       "    .dataframe tbody tr th {\n",
       "        vertical-align: top;\n",
       "    }\n",
       "\n",
       "    .dataframe thead th {\n",
       "        text-align: right;\n",
       "    }\n",
       "</style>\n",
       "<table border=\"1\" class=\"dataframe\">\n",
       "  <thead>\n",
       "    <tr style=\"text-align: right;\">\n",
       "      <th></th>\n",
       "      <th>word</th>\n",
       "      <th>appears_in</th>\n",
       "      <th>count</th>\n",
       "      <th>rank</th>\n",
       "      <th>pct_total</th>\n",
       "      <th>cul_pct_total</th>\n",
       "      <th>appears_in_pct</th>\n",
       "    </tr>\n",
       "  </thead>\n",
       "  <tbody>\n",
       "    <tr>\n",
       "      <th>88</th>\n",
       "      <td>great</td>\n",
       "      <td>7187</td>\n",
       "      <td>8183</td>\n",
       "      <td>1.0</td>\n",
       "      <td>0.021458</td>\n",
       "      <td>0.021458</td>\n",
       "      <td>0.253671</td>\n",
       "    </tr>\n",
       "    <tr>\n",
       "      <th>25</th>\n",
       "      <td>batteries</td>\n",
       "      <td>3964</td>\n",
       "      <td>5671</td>\n",
       "      <td>2.0</td>\n",
       "      <td>0.014871</td>\n",
       "      <td>0.036328</td>\n",
       "      <td>0.139912</td>\n",
       "    </tr>\n",
       "    <tr>\n",
       "      <th>75</th>\n",
       "      <td>good</td>\n",
       "      <td>4633</td>\n",
       "      <td>5148</td>\n",
       "      <td>3.0</td>\n",
       "      <td>0.013499</td>\n",
       "      <td>0.049828</td>\n",
       "      <td>0.163525</td>\n",
       "    </tr>\n",
       "    <tr>\n",
       "      <th>7995</th>\n",
       "      <td>tablet</td>\n",
       "      <td>3920</td>\n",
       "      <td>4714</td>\n",
       "      <td>4.0</td>\n",
       "      <td>0.012361</td>\n",
       "      <td>0.062189</td>\n",
       "      <td>0.138359</td>\n",
       "    </tr>\n",
       "    <tr>\n",
       "      <th>91</th>\n",
       "      <td>the</td>\n",
       "      <td>2970</td>\n",
       "      <td>3653</td>\n",
       "      <td>5.0</td>\n",
       "      <td>0.009579</td>\n",
       "      <td>0.071768</td>\n",
       "      <td>0.104828</td>\n",
       "    </tr>\n",
       "  </tbody>\n",
       "</table>\n",
       "</div>"
      ],
      "text/plain": [
       "           word  appears_in  count  rank  pct_total  cul_pct_total  \\\n",
       "88        great        7187   8183   1.0   0.021458       0.021458   \n",
       "25    batteries        3964   5671   2.0   0.014871       0.036328   \n",
       "75         good        4633   5148   3.0   0.013499       0.049828   \n",
       "7995     tablet        3920   4714   4.0   0.012361       0.062189   \n",
       "91          the        2970   3653   5.0   0.009579       0.071768   \n",
       "\n",
       "      appears_in_pct  \n",
       "88          0.253671  \n",
       "25          0.139912  \n",
       "75          0.163525  \n",
       "7995        0.138359  \n",
       "91          0.104828  "
      ]
     },
     "execution_count": 45,
     "metadata": {},
     "output_type": "execute_result"
    }
   ],
   "source": [
    "wc = count(df['tokens'])\n",
    "wc.head()"
   ]
  },
  {
   "cell_type": "code",
   "execution_count": 46,
   "metadata": {},
   "outputs": [
    {
     "data": {
      "image/png": "[encoded data removed]",
      "text/plain": [
       "<Figure size 432x288 with 1 Axes>"
      ]
     },
     "metadata": {
      "needs_background": "light"
     },
     "output_type": "display_data"
    }
   ],
   "source": [
    "wc_top20 = wc[wc['rank'] <= 20]\n",
    "\n",
    "squarify.plot(sizes=wc_top20['pct_total'], label=wc_top20['word'], alpha=.8 )\n",
    "plt.axis('off')\n",
    "plt.show()"
   ]
  },
  {
   "cell_type": "markdown",
   "metadata": {},
   "source": [
    "### Statistical Trimming\n",
    "\n",
    "So far, we have talked about stop word in relation to either broad english words or domain specific stop words. Another common approach to stop word removal is via statistical trimming. The basic idea: preserve the words that give the most about of variation in your data. \n",
    "\n",
    "Do you remember this graph?"
   ]
  },
  {
   "cell_type": "code",
   "execution_count": 47,
   "metadata": {},
   "outputs": [
    {
     "data": {
      "image/png": "[encoded data removed]",
      "text/plain": [
       "<Figure size 432x288 with 1 Axes>"
      ]
     },
     "metadata": {
      "needs_background": "light"
     },
     "output_type": "display_data"
    }
   ],
   "source": [
    "sns.lineplot(x='rank', y='cul_pct_total', data=wc);"
   ]
  },
  {
   "cell_type": "markdown",
   "metadata": {},
   "source": [
    "This graph tells us that only a *handful* of words represented 80% of words in the overall corpus. We can interpret this in two ways: \n",
    "1. The words that appear most frequently may not provide any insight into the mean on the documens since they are so prevalent. \n",
    "2. Words that appear infrequeny (at the end of the graph) also probably do not add much value, because the are mentioned so rarely. \n",
    "\n",
    "Let's take a look at the words at the bottom and the top and make a decision for ourselves:"
   ]
  },
  {
   "cell_type": "code",
   "execution_count": 48,
   "metadata": {},
   "outputs": [
    {
     "data": {
      "text/html": [
       "<div>\n",
       "<style scoped>\n",
       "    .dataframe tbody tr th:only-of-type {\n",
       "        vertical-align: middle;\n",
       "    }\n",
       "\n",
       "    .dataframe tbody tr th {\n",
       "        vertical-align: top;\n",
       "    }\n",
       "\n",
       "    .dataframe thead th {\n",
       "        text-align: right;\n",
       "    }\n",
       "</style>\n",
       "<table border=\"1\" class=\"dataframe\">\n",
       "  <thead>\n",
       "    <tr style=\"text-align: right;\">\n",
       "      <th></th>\n",
       "      <th>word</th>\n",
       "      <th>appears_in</th>\n",
       "      <th>count</th>\n",
       "      <th>rank</th>\n",
       "      <th>pct_total</th>\n",
       "      <th>cul_pct_total</th>\n",
       "      <th>appears_in_pct</th>\n",
       "    </tr>\n",
       "  </thead>\n",
       "  <tbody>\n",
       "    <tr>\n",
       "      <th>88</th>\n",
       "      <td>great</td>\n",
       "      <td>7187</td>\n",
       "      <td>8183</td>\n",
       "      <td>1.0</td>\n",
       "      <td>0.021458</td>\n",
       "      <td>0.021458</td>\n",
       "      <td>0.253671</td>\n",
       "    </tr>\n",
       "    <tr>\n",
       "      <th>25</th>\n",
       "      <td>batteries</td>\n",
       "      <td>3964</td>\n",
       "      <td>5671</td>\n",
       "      <td>2.0</td>\n",
       "      <td>0.014871</td>\n",
       "      <td>0.036328</td>\n",
       "      <td>0.139912</td>\n",
       "    </tr>\n",
       "    <tr>\n",
       "      <th>75</th>\n",
       "      <td>good</td>\n",
       "      <td>4633</td>\n",
       "      <td>5148</td>\n",
       "      <td>3.0</td>\n",
       "      <td>0.013499</td>\n",
       "      <td>0.049828</td>\n",
       "      <td>0.163525</td>\n",
       "    </tr>\n",
       "    <tr>\n",
       "      <th>7995</th>\n",
       "      <td>tablet</td>\n",
       "      <td>3920</td>\n",
       "      <td>4714</td>\n",
       "      <td>4.0</td>\n",
       "      <td>0.012361</td>\n",
       "      <td>0.062189</td>\n",
       "      <td>0.138359</td>\n",
       "    </tr>\n",
       "    <tr>\n",
       "      <th>91</th>\n",
       "      <td>the</td>\n",
       "      <td>2970</td>\n",
       "      <td>3653</td>\n",
       "      <td>5.0</td>\n",
       "      <td>0.009579</td>\n",
       "      <td>0.071768</td>\n",
       "      <td>0.104828</td>\n",
       "    </tr>\n",
       "    <tr>\n",
       "      <th>122</th>\n",
       "      <td>love</td>\n",
       "      <td>3154</td>\n",
       "      <td>3458</td>\n",
       "      <td>6.0</td>\n",
       "      <td>0.009068</td>\n",
       "      <td>0.080836</td>\n",
       "      <td>0.111323</td>\n",
       "    </tr>\n",
       "    <tr>\n",
       "      <th>120</th>\n",
       "      <td>use</td>\n",
       "      <td>2881</td>\n",
       "      <td>3233</td>\n",
       "      <td>7.0</td>\n",
       "      <td>0.008478</td>\n",
       "      <td>0.089313</td>\n",
       "      <td>0.101687</td>\n",
       "    </tr>\n",
       "    <tr>\n",
       "      <th>43</th>\n",
       "      <td>bought</td>\n",
       "      <td>2916</td>\n",
       "      <td>3111</td>\n",
       "      <td>8.0</td>\n",
       "      <td>0.008158</td>\n",
       "      <td>0.097471</td>\n",
       "      <td>0.102922</td>\n",
       "    </tr>\n",
       "    <tr>\n",
       "      <th>1415</th>\n",
       "      <td>easy</td>\n",
       "      <td>2598</td>\n",
       "      <td>2823</td>\n",
       "      <td>9.0</td>\n",
       "      <td>0.007403</td>\n",
       "      <td>0.104874</td>\n",
       "      <td>0.091698</td>\n",
       "    </tr>\n",
       "    <tr>\n",
       "      <th>196</th>\n",
       "      <td>this</td>\n",
       "      <td>2685</td>\n",
       "      <td>2819</td>\n",
       "      <td>10.0</td>\n",
       "      <td>0.007392</td>\n",
       "      <td>0.112266</td>\n",
       "      <td>0.094769</td>\n",
       "    </tr>\n",
       "    <tr>\n",
       "      <th>18</th>\n",
       "      <td>price</td>\n",
       "      <td>2672</td>\n",
       "      <td>2808</td>\n",
       "      <td>11.0</td>\n",
       "      <td>0.007363</td>\n",
       "      <td>0.119629</td>\n",
       "      <td>0.094310</td>\n",
       "    </tr>\n",
       "    <tr>\n",
       "      <th>701</th>\n",
       "      <td>it.</td>\n",
       "      <td>2356</td>\n",
       "      <td>2489</td>\n",
       "      <td>12.0</td>\n",
       "      <td>0.006527</td>\n",
       "      <td>0.126156</td>\n",
       "      <td>0.083157</td>\n",
       "    </tr>\n",
       "    <tr>\n",
       "      <th>16</th>\n",
       "      <td>like</td>\n",
       "      <td>2127</td>\n",
       "      <td>2403</td>\n",
       "      <td>13.0</td>\n",
       "      <td>0.006301</td>\n",
       "      <td>0.132457</td>\n",
       "      <td>0.075074</td>\n",
       "    </tr>\n",
       "    <tr>\n",
       "      <th>5757</th>\n",
       "      <td>kindle</td>\n",
       "      <td>1805</td>\n",
       "      <td>2315</td>\n",
       "      <td>14.0</td>\n",
       "      <td>0.006070</td>\n",
       "      <td>0.138527</td>\n",
       "      <td>0.063709</td>\n",
       "    </tr>\n",
       "    <tr>\n",
       "      <th>313</th>\n",
       "      <td>it</td>\n",
       "      <td>1977</td>\n",
       "      <td>2295</td>\n",
       "      <td>15.0</td>\n",
       "      <td>0.006018</td>\n",
       "      <td>0.144545</td>\n",
       "      <td>0.069780</td>\n",
       "    </tr>\n",
       "    <tr>\n",
       "      <th>4640</th>\n",
       "      <td>loves</td>\n",
       "      <td>2086</td>\n",
       "      <td>2198</td>\n",
       "      <td>16.0</td>\n",
       "      <td>0.005764</td>\n",
       "      <td>0.150309</td>\n",
       "      <td>0.073627</td>\n",
       "    </tr>\n",
       "    <tr>\n",
       "      <th>27</th>\n",
       "      <td>long</td>\n",
       "      <td>2085</td>\n",
       "      <td>2193</td>\n",
       "      <td>17.0</td>\n",
       "      <td>0.005751</td>\n",
       "      <td>0.156060</td>\n",
       "      <td>0.073592</td>\n",
       "    </tr>\n",
       "    <tr>\n",
       "      <th>377</th>\n",
       "      <td>my</td>\n",
       "      <td>1973</td>\n",
       "      <td>2033</td>\n",
       "      <td>18.0</td>\n",
       "      <td>0.005331</td>\n",
       "      <td>0.161391</td>\n",
       "      <td>0.069639</td>\n",
       "    </tr>\n",
       "    <tr>\n",
       "      <th>24</th>\n",
       "      <td>work</td>\n",
       "      <td>1914</td>\n",
       "      <td>1997</td>\n",
       "      <td>19.0</td>\n",
       "      <td>0.005237</td>\n",
       "      <td>0.166627</td>\n",
       "      <td>0.067556</td>\n",
       "    </tr>\n",
       "    <tr>\n",
       "      <th>267</th>\n",
       "      <td>kids</td>\n",
       "      <td>1657</td>\n",
       "      <td>1922</td>\n",
       "      <td>20.0</td>\n",
       "      <td>0.005040</td>\n",
       "      <td>0.171667</td>\n",
       "      <td>0.058485</td>\n",
       "    </tr>\n",
       "    <tr>\n",
       "      <th>35</th>\n",
       "      <td>buy</td>\n",
       "      <td>1783</td>\n",
       "      <td>1915</td>\n",
       "      <td>21.0</td>\n",
       "      <td>0.005022</td>\n",
       "      <td>0.176689</td>\n",
       "      <td>0.062932</td>\n",
       "    </tr>\n",
       "    <tr>\n",
       "      <th>1487</th>\n",
       "      <td>fire</td>\n",
       "      <td>1570</td>\n",
       "      <td>1836</td>\n",
       "      <td>22.0</td>\n",
       "      <td>0.004814</td>\n",
       "      <td>0.181503</td>\n",
       "      <td>0.055414</td>\n",
       "    </tr>\n",
       "    <tr>\n",
       "      <th>177</th>\n",
       "      <td>they</td>\n",
       "      <td>1621</td>\n",
       "      <td>1802</td>\n",
       "      <td>23.0</td>\n",
       "      <td>0.004725</td>\n",
       "      <td>0.186229</td>\n",
       "      <td>0.057214</td>\n",
       "    </tr>\n",
       "    <tr>\n",
       "      <th>4</th>\n",
       "      <td>battery</td>\n",
       "      <td>1578</td>\n",
       "      <td>1788</td>\n",
       "      <td>24.0</td>\n",
       "      <td>0.004689</td>\n",
       "      <td>0.190917</td>\n",
       "      <td>0.055697</td>\n",
       "    </tr>\n",
       "    <tr>\n",
       "      <th>1491</th>\n",
       "      <td>old</td>\n",
       "      <td>1643</td>\n",
       "      <td>1752</td>\n",
       "      <td>25.0</td>\n",
       "      <td>0.004594</td>\n",
       "      <td>0.195511</td>\n",
       "      <td>0.057991</td>\n",
       "    </tr>\n",
       "    <tr>\n",
       "      <th>131</th>\n",
       "      <td>year</td>\n",
       "      <td>1444</td>\n",
       "      <td>1614</td>\n",
       "      <td>26.0</td>\n",
       "      <td>0.004232</td>\n",
       "      <td>0.199744</td>\n",
       "      <td>0.050967</td>\n",
       "    </tr>\n",
       "    <tr>\n",
       "      <th>149</th>\n",
       "      <td>batteries.</td>\n",
       "      <td>1427</td>\n",
       "      <td>1548</td>\n",
       "      <td>27.0</td>\n",
       "      <td>0.004059</td>\n",
       "      <td>0.203803</td>\n",
       "      <td>0.050367</td>\n",
       "    </tr>\n",
       "    <tr>\n",
       "      <th>66</th>\n",
       "      <td>price.</td>\n",
       "      <td>1435</td>\n",
       "      <td>1465</td>\n",
       "      <td>28.0</td>\n",
       "      <td>0.003842</td>\n",
       "      <td>0.207644</td>\n",
       "      <td>0.050649</td>\n",
       "    </tr>\n",
       "    <tr>\n",
       "      <th>118</th>\n",
       "      <td>works</td>\n",
       "      <td>1427</td>\n",
       "      <td>1448</td>\n",
       "      <td>29.0</td>\n",
       "      <td>0.003797</td>\n",
       "      <td>0.211441</td>\n",
       "      <td>0.050367</td>\n",
       "    </tr>\n",
       "    <tr>\n",
       "      <th>238</th>\n",
       "      <td>time</td>\n",
       "      <td>1219</td>\n",
       "      <td>1366</td>\n",
       "      <td>30.0</td>\n",
       "      <td>0.003582</td>\n",
       "      <td>0.215023</td>\n",
       "      <td>0.043026</td>\n",
       "    </tr>\n",
       "    <tr>\n",
       "      <th>148</th>\n",
       "      <td>don't</td>\n",
       "      <td>1192</td>\n",
       "      <td>1350</td>\n",
       "      <td>31.0</td>\n",
       "      <td>0.003540</td>\n",
       "      <td>0.218563</td>\n",
       "      <td>0.042073</td>\n",
       "    </tr>\n",
       "    <tr>\n",
       "      <th>30</th>\n",
       "      <td>these</td>\n",
       "      <td>1293</td>\n",
       "      <td>1338</td>\n",
       "      <td>32.0</td>\n",
       "      <td>0.003509</td>\n",
       "      <td>0.222072</td>\n",
       "      <td>0.045637</td>\n",
       "    </tr>\n",
       "    <tr>\n",
       "      <th>11304</th>\n",
       "      <td>tablet.</td>\n",
       "      <td>1253</td>\n",
       "      <td>1327</td>\n",
       "      <td>33.0</td>\n",
       "      <td>0.003480</td>\n",
       "      <td>0.225552</td>\n",
       "      <td>0.044226</td>\n",
       "    </tr>\n",
       "    <tr>\n",
       "      <th>396</th>\n",
       "      <td>product</td>\n",
       "      <td>1232</td>\n",
       "      <td>1302</td>\n",
       "      <td>34.0</td>\n",
       "      <td>0.003414</td>\n",
       "      <td>0.228966</td>\n",
       "      <td>0.043484</td>\n",
       "    </tr>\n",
       "    <tr>\n",
       "      <th>554</th>\n",
       "      <td>best</td>\n",
       "      <td>1171</td>\n",
       "      <td>1273</td>\n",
       "      <td>35.0</td>\n",
       "      <td>0.003338</td>\n",
       "      <td>0.232304</td>\n",
       "      <td>0.041331</td>\n",
       "    </tr>\n",
       "    <tr>\n",
       "      <th>3463</th>\n",
       "      <td>apps</td>\n",
       "      <td>1106</td>\n",
       "      <td>1262</td>\n",
       "      <td>36.0</td>\n",
       "      <td>0.003309</td>\n",
       "      <td>0.235613</td>\n",
       "      <td>0.039037</td>\n",
       "    </tr>\n",
       "    <tr>\n",
       "      <th>172</th>\n",
       "      <td>purchased</td>\n",
       "      <td>1185</td>\n",
       "      <td>1256</td>\n",
       "      <td>37.0</td>\n",
       "      <td>0.003294</td>\n",
       "      <td>0.238907</td>\n",
       "      <td>0.041825</td>\n",
       "    </tr>\n",
       "    <tr>\n",
       "      <th>126</th>\n",
       "      <td>got</td>\n",
       "      <td>1182</td>\n",
       "      <td>1247</td>\n",
       "      <td>38.0</td>\n",
       "      <td>0.003270</td>\n",
       "      <td>0.242177</td>\n",
       "      <td>0.041720</td>\n",
       "    </tr>\n",
       "    <tr>\n",
       "      <th>23</th>\n",
       "      <td>better</td>\n",
       "      <td>1101</td>\n",
       "      <td>1200</td>\n",
       "      <td>39.0</td>\n",
       "      <td>0.003147</td>\n",
       "      <td>0.245323</td>\n",
       "      <td>0.038861</td>\n",
       "    </tr>\n",
       "    <tr>\n",
       "      <th>3838</th>\n",
       "      <td>screen</td>\n",
       "      <td>1043</td>\n",
       "      <td>1184</td>\n",
       "      <td>40.0</td>\n",
       "      <td>0.003105</td>\n",
       "      <td>0.248428</td>\n",
       "      <td>0.036813</td>\n",
       "    </tr>\n",
       "    <tr>\n",
       "      <th>1199</th>\n",
       "      <td>games</td>\n",
       "      <td>1061</td>\n",
       "      <td>1130</td>\n",
       "      <td>41.0</td>\n",
       "      <td>0.002963</td>\n",
       "      <td>0.251391</td>\n",
       "      <td>0.037449</td>\n",
       "    </tr>\n",
       "    <tr>\n",
       "      <th>717</th>\n",
       "      <td>play</td>\n",
       "      <td>965</td>\n",
       "      <td>1071</td>\n",
       "      <td>42.0</td>\n",
       "      <td>0.002808</td>\n",
       "      <td>0.254200</td>\n",
       "      <td>0.034060</td>\n",
       "    </tr>\n",
       "    <tr>\n",
       "      <th>248</th>\n",
       "      <td>nice</td>\n",
       "      <td>1008</td>\n",
       "      <td>1069</td>\n",
       "      <td>43.0</td>\n",
       "      <td>0.002803</td>\n",
       "      <td>0.257003</td>\n",
       "      <td>0.035578</td>\n",
       "    </tr>\n",
       "    <tr>\n",
       "      <th>22</th>\n",
       "      <td>brand</td>\n",
       "      <td>957</td>\n",
       "      <td>1045</td>\n",
       "      <td>44.0</td>\n",
       "      <td>0.002740</td>\n",
       "      <td>0.259743</td>\n",
       "      <td>0.033778</td>\n",
       "    </tr>\n",
       "    <tr>\n",
       "      <th>1092</th>\n",
       "      <td>quality</td>\n",
       "      <td>975</td>\n",
       "      <td>1008</td>\n",
       "      <td>45.0</td>\n",
       "      <td>0.002643</td>\n",
       "      <td>0.262386</td>\n",
       "      <td>0.034413</td>\n",
       "    </tr>\n",
       "    <tr>\n",
       "      <th>666</th>\n",
       "      <td>it's</td>\n",
       "      <td>920</td>\n",
       "      <td>1004</td>\n",
       "      <td>46.0</td>\n",
       "      <td>0.002633</td>\n",
       "      <td>0.265019</td>\n",
       "      <td>0.032472</td>\n",
       "    </tr>\n",
       "    <tr>\n",
       "      <th>151</th>\n",
       "      <td>we</td>\n",
       "      <td>852</td>\n",
       "      <td>995</td>\n",
       "      <td>47.0</td>\n",
       "      <td>0.002609</td>\n",
       "      <td>0.267628</td>\n",
       "      <td>0.030072</td>\n",
       "    </tr>\n",
       "    <tr>\n",
       "      <th>1465</th>\n",
       "      <td>read</td>\n",
       "      <td>880</td>\n",
       "      <td>985</td>\n",
       "      <td>48.0</td>\n",
       "      <td>0.002583</td>\n",
       "      <td>0.270211</td>\n",
       "      <td>0.031060</td>\n",
       "    </tr>\n",
       "    <tr>\n",
       "      <th>2880</th>\n",
       "      <td>she</td>\n",
       "      <td>819</td>\n",
       "      <td>973</td>\n",
       "      <td>49.0</td>\n",
       "      <td>0.002551</td>\n",
       "      <td>0.272762</td>\n",
       "      <td>0.028907</td>\n",
       "    </tr>\n",
       "    <tr>\n",
       "      <th>259</th>\n",
       "      <td>very</td>\n",
       "      <td>936</td>\n",
       "      <td>968</td>\n",
       "      <td>50.0</td>\n",
       "      <td>0.002538</td>\n",
       "      <td>0.275301</td>\n",
       "      <td>0.033037</td>\n",
       "    </tr>\n",
       "  </tbody>\n",
       "</table>\n",
       "</div>"
      ],
      "text/plain": [
       "             word  appears_in  count  rank  pct_total  cul_pct_total  \\\n",
       "88          great        7187   8183   1.0   0.021458       0.021458   \n",
       "25      batteries        3964   5671   2.0   0.014871       0.036328   \n",
       "75           good        4633   5148   3.0   0.013499       0.049828   \n",
       "7995       tablet        3920   4714   4.0   0.012361       0.062189   \n",
       "91            the        2970   3653   5.0   0.009579       0.071768   \n",
       "122          love        3154   3458   6.0   0.009068       0.080836   \n",
       "120           use        2881   3233   7.0   0.008478       0.089313   \n",
       "43         bought        2916   3111   8.0   0.008158       0.097471   \n",
       "1415         easy        2598   2823   9.0   0.007403       0.104874   \n",
       "196          this        2685   2819  10.0   0.007392       0.112266   \n",
       "18          price        2672   2808  11.0   0.007363       0.119629   \n",
       "701           it.        2356   2489  12.0   0.006527       0.126156   \n",
       "16           like        2127   2403  13.0   0.006301       0.132457   \n",
       "5757       kindle        1805   2315  14.0   0.006070       0.138527   \n",
       "313            it        1977   2295  15.0   0.006018       0.144545   \n",
       "4640        loves        2086   2198  16.0   0.005764       0.150309   \n",
       "27           long        2085   2193  17.0   0.005751       0.156060   \n",
       "377            my        1973   2033  18.0   0.005331       0.161391   \n",
       "24           work        1914   1997  19.0   0.005237       0.166627   \n",
       "267          kids        1657   1922  20.0   0.005040       0.171667   \n",
       "35            buy        1783   1915  21.0   0.005022       0.176689   \n",
       "1487         fire        1570   1836  22.0   0.004814       0.181503   \n",
       "177          they        1621   1802  23.0   0.004725       0.186229   \n",
       "4         battery        1578   1788  24.0   0.004689       0.190917   \n",
       "1491          old        1643   1752  25.0   0.004594       0.195511   \n",
       "131          year        1444   1614  26.0   0.004232       0.199744   \n",
       "149    batteries.        1427   1548  27.0   0.004059       0.203803   \n",
       "66         price.        1435   1465  28.0   0.003842       0.207644   \n",
       "118         works        1427   1448  29.0   0.003797       0.211441   \n",
       "238          time        1219   1366  30.0   0.003582       0.215023   \n",
       "148         don't        1192   1350  31.0   0.003540       0.218563   \n",
       "30          these        1293   1338  32.0   0.003509       0.222072   \n",
       "11304     tablet.        1253   1327  33.0   0.003480       0.225552   \n",
       "396       product        1232   1302  34.0   0.003414       0.228966   \n",
       "554          best        1171   1273  35.0   0.003338       0.232304   \n",
       "3463         apps        1106   1262  36.0   0.003309       0.235613   \n",
       "172     purchased        1185   1256  37.0   0.003294       0.238907   \n",
       "126           got        1182   1247  38.0   0.003270       0.242177   \n",
       "23         better        1101   1200  39.0   0.003147       0.245323   \n",
       "3838       screen        1043   1184  40.0   0.003105       0.248428   \n",
       "1199        games        1061   1130  41.0   0.002963       0.251391   \n",
       "717          play         965   1071  42.0   0.002808       0.254200   \n",
       "248          nice        1008   1069  43.0   0.002803       0.257003   \n",
       "22          brand         957   1045  44.0   0.002740       0.259743   \n",
       "1092      quality         975   1008  45.0   0.002643       0.262386   \n",
       "666          it's         920   1004  46.0   0.002633       0.265019   \n",
       "151            we         852    995  47.0   0.002609       0.267628   \n",
       "1465         read         880    985  48.0   0.002583       0.270211   \n",
       "2880          she         819    973  49.0   0.002551       0.272762   \n",
       "259          very         936    968  50.0   0.002538       0.275301   \n",
       "\n",
       "       appears_in_pct  \n",
       "88           0.253671  \n",
       "25           0.139912  \n",
       "75           0.163525  \n",
       "7995         0.138359  \n",
       "91           0.104828  \n",
       "122          0.111323  \n",
       "120          0.101687  \n",
       "43           0.102922  \n",
       "1415         0.091698  \n",
       "196          0.094769  \n",
       "18           0.094310  \n",
       "701          0.083157  \n",
       "16           0.075074  \n",
       "5757         0.063709  \n",
       "313          0.069780  \n",
       "4640         0.073627  \n",
       "27           0.073592  \n",
       "377          0.069639  \n",
       "24           0.067556  \n",
       "267          0.058485  \n",
       "35           0.062932  \n",
       "1487         0.055414  \n",
       "177          0.057214  \n",
       "4            0.055697  \n",
       "1491         0.057991  \n",
       "131          0.050967  \n",
       "149          0.050367  \n",
       "66           0.050649  \n",
       "118          0.050367  \n",
       "238          0.043026  \n",
       "148          0.042073  \n",
       "30           0.045637  \n",
       "11304        0.044226  \n",
       "396          0.043484  \n",
       "554          0.041331  \n",
       "3463         0.039037  \n",
       "172          0.041825  \n",
       "126          0.041720  \n",
       "23           0.038861  \n",
       "3838         0.036813  \n",
       "1199         0.037449  \n",
       "717          0.034060  \n",
       "248          0.035578  \n",
       "22           0.033778  \n",
       "1092         0.034413  \n",
       "666          0.032472  \n",
       "151          0.030072  \n",
       "1465         0.031060  \n",
       "2880         0.028907  \n",
       "259          0.033037  "
      ]
     },
     "execution_count": 48,
     "metadata": {},
     "output_type": "execute_result"
    }
   ],
   "source": [
    "wc.head(50)"
   ]
  },
  {
   "cell_type": "code",
   "execution_count": 49,
   "metadata": {},
   "outputs": [
    {
     "data": {
      "text/plain": [
       "count    21446.000000\n",
       "mean         0.000591\n",
       "std          0.004096\n",
       "min          0.000035\n",
       "25%          0.000035\n",
       "50%          0.000071\n",
       "75%          0.000176\n",
       "max          0.253671\n",
       "Name: appears_in_pct, dtype: float64"
      ]
     },
     "execution_count": 49,
     "metadata": {},
     "output_type": "execute_result"
    }
   ],
   "source": [
    "wc['appears_in_pct'].describe()"
   ]
  },
  {
   "cell_type": "code",
   "execution_count": 50,
   "metadata": {},
   "outputs": [
    {
     "data": {
      "text/plain": [
       "<matplotlib.axes._subplots.AxesSubplot at 0x1a275df6d8>"
      ]
     },
     "execution_count": 50,
     "metadata": {},
     "output_type": "execute_result"
    },
    {
     "data": {
      "image/png": "[encoded data removed]",
      "text/plain": [
       "<Figure size 432x288 with 1 Axes>"
      ]
     },
     "metadata": {
      "needs_background": "light"
     },
     "output_type": "display_data"
    }
   ],
   "source": [
    "# Frequency of appears in documents\n",
    "sns.distplot(wc['appears_in_pct'])"
   ]
  },
  {
   "cell_type": "markdown",
   "metadata": {},
   "source": [
    "## Stemming & Lemmatization\n",
    "<a id=\"p3\"></a>\n",
    "\n",
    "You can see from our example above there is still some normalization to do to get a clean analysis. You notice that there many words (*i.e.* 'batteries', 'battery') which share the same root word. We can use either the process of stemming or lemmatization to trim our words down to the 'root' word. \n",
    "\n",
    "__Section Agenda__:\n",
    "\n",
    "- Which is which\n",
    "- why use one v. other\n",
    "- show side by side visualizations \n",
    "- how to do it in spacy & nltk\n",
    "- introduce PoS in here as well"
   ]
  },
  {
   "cell_type": "markdown",
   "metadata": {},
   "source": [
    "### Stemming\n",
    "\n",
    "> *a process for removing the commoner morphological and inflexional endings from words in English. Its main use is as part of a term normalisation process that is usually done when setting up Information Retrieval systems.* - [Martin Porter](https://tartarus.org/martin/PorterStemmer/)\n",
    "\n",
    "Some examples include:\n",
    "- 'ing'\n",
    "- 'ed'\n",
    "- 's'\n",
    "\n",
    "These rules are by no means comprehensive, but they are somewhere to start. Most stemming is done by well documented algorithms such as Porter, Snowball, and Dawson. Porter and its newer version Snowball are the most popular stemming algorithms today. For more information on various stemming algorithms check out [*\"A Comparative Study of Stemming Algorithms\"*](https://pdfs.semanticscholar.org/1c0c/0fa35d4ff8a2f925eb955e48d655494bd167.pdf) \n",
    "\n",
    "\n",
    "Spacy does not do stemming out of the box, but instead uses a different technique called *lemmatization* which we will discuss in the next section. Let's turn to an antique python package `nltk` for stemming. \n"
   ]
  },
  {
   "cell_type": "code",
   "execution_count": 51,
   "metadata": {},
   "outputs": [
    {
     "name": "stdout",
     "output_type": "stream",
     "text": [
      "game\n",
      "game\n",
      "game\n",
      "game\n"
     ]
    }
   ],
   "source": [
    "from nltk.stem import PorterStemmer\n",
    "\n",
    "ps = PorterStemmer()\n",
    "\n",
    "words = [\"game\",\"gaming\",\"gamed\",\"games\"]\n",
    "\n",
    "for word in words:\n",
    "    print(ps.stem(word))"
   ]
  },
  {
   "cell_type": "markdown",
   "metadata": {},
   "source": [
    "#### Two Minute Challenge\n",
    "\n",
    "Apply the Porter stemming algorithm to the tokens in the `df` dataframe. Visualize the results in the tree graph we have been using for this session."
   ]
  },
  {
   "cell_type": "code",
   "execution_count": null,
   "metadata": {},
   "outputs": [],
   "source": [
    "# Put in a new column `stems`\n"
   ]
  },
  {
   "cell_type": "code",
   "execution_count": null,
   "metadata": {},
   "outputs": [],
   "source": [
    "wc = count(df['stems'])\n",
    "\n",
    "wc_top20 = wc[wc['rank'] <= 20]\n",
    "\n",
    "squarify.plot(sizes=wc_top20['pct_total'], label=wc_top20['word'], alpha=.8 )\n",
    "plt.axis('off')\n",
    "plt.show()"
   ]
  },
  {
   "cell_type": "markdown",
   "metadata": {
    "toc-hr-collapsed": false
   },
   "source": [
    "### Lemmatization\n",
    "\n",
    "You notice immediately that results are kinda funky - words just oddly chopped off. The Porter algorithm did exactly what it knows to do: chop off endings. Stemming works well in applications where humans don't have to worry about reading the results. Search engines and more broadly information retrival algorithms use stemming. Why? Becuase it's fast. \n",
    "\n",
    "Lemmatization on the other hand is more methodical. The goal is to transform a word into's base form called a lemma. Plural nouns with funky spellings get transformed to singular tense. Verbs are all transformed to the transitive. Nice tidy data for a visualization. :) However, this tidy data can come at computational cost. Spacy does a pretty freaking good job of it though. Let's take a look:"
   ]
  },
  {
   "cell_type": "code",
   "execution_count": 52,
   "metadata": {},
   "outputs": [
    {
     "name": "stdout",
     "output_type": "stream",
     "text": [
      "this\n",
      "be\n",
      "the\n",
      "start\n",
      "of\n",
      "-PRON-\n",
      "nlp\n",
      "adventure\n",
      ".\n",
      "-PRON-\n",
      "start\n",
      "here\n",
      "with\n",
      "spacy\n",
      ".\n"
     ]
    }
   ],
   "source": [
    "sent = \"This is the start of our NLP adventure. We started here with Spacy.\"\n",
    "\n",
    "doc = nlp(sent)\n",
    "\n",
    "# Lemma Attributes\n",
    "for token in doc:\n",
    "    print(token.lemma_)"
   ]
  },
  {
   "cell_type": "code",
   "execution_count": null,
   "metadata": {},
   "outputs": [],
   "source": [
    "# Wrap it all in a function\n",
    "def get_lemmas(text)\n",
    "    lemmas = []\n",
    "    \n",
    "    return lemmas"
   ]
  },
  {
   "cell_type": "code",
   "execution_count": null,
   "metadata": {},
   "outputs": [],
   "source": [
    "df['lemmas'] = df['reviews.text'].apply(get_lemmas)"
   ]
  },
  {
   "cell_type": "code",
   "execution_count": null,
   "metadata": {},
   "outputs": [],
   "source": [
    "df['lemmas'].head()"
   ]
  },
  {
   "cell_type": "code",
   "execution_count": null,
   "metadata": {},
   "outputs": [],
   "source": [
    "wc = count(df['lemmas'])\n",
    "wc_top20 = wc[wc['rank'] <= 20]\n",
    "\n",
    "squarify.plot(sizes=wc_top20['pct_total'], label=wc_top20['word'], alpha=.8 )\n",
    "plt.axis('off')\n",
    "plt.show()"
   ]
  },
  {
   "cell_type": "markdown",
   "metadata": {
    "toc-hr-collapsed": true
   },
   "source": [
    "### What else should I know? \n",
    "- NER\n",
    "- Dependcy Trees \n",
    "- Generators\n",
    "- the major libraries (NLTK, Spacy, Gensim)"
   ]
  },
  {
   "cell_type": "markdown",
   "metadata": {},
   "source": [
    "## Assignment:\n",
    "\n",
    "Yelp Dataset"
   ]
  },
  {
   "cell_type": "code",
   "execution_count": 40,
   "metadata": {},
   "outputs": [],
   "source": [
    "enron = pd.read_csv('./data/emails.csv')"
   ]
  },
  {
   "cell_type": "code",
   "execution_count": 42,
   "metadata": {},
   "outputs": [],
   "source": [
    "tokens = []\n",
    "\n",
    "for doc in tokenizer.pipe(enron['message'], batch_size=500):\n",
    "    doc_tokens = [token.text for token in doc]\n",
    "    tokens.append(doc_tokens)\n",
    "    \n",
    "enron['tokens'] = tokens"
   ]
  },
  {
   "cell_type": "code",
   "execution_count": null,
   "metadata": {},
   "outputs": [],
   "source": [
    "sender    = []\n",
    "recipient = []\n",
    "subject   = []\n",
    "\n"
   ]
  },
  {
   "cell_type": "code",
   "execution_count": 43,
   "metadata": {},
   "outputs": [
    {
     "data": {
      "text/plain": [
       "0         [Message-ID:, <18782981.1075855378110.JavaMail...\n",
       "1         [Message-ID:, <15464986.1075855378456.JavaMail...\n",
       "2         [Message-ID:, <24216240.1075855687451.JavaMail...\n",
       "3         [Message-ID:, <13505866.1075863688222.JavaMail...\n",
       "4         [Message-ID:, <30922949.1075863688243.JavaMail...\n",
       "5         [Message-ID:, <30965995.1075863688265.JavaMail...\n",
       "6         [Message-ID:, <16254169.1075863688286.JavaMail...\n",
       "7         [Message-ID:, <17189699.1075863688308.JavaMail...\n",
       "8         [Message-ID:, <20641191.1075855687472.JavaMail...\n",
       "9         [Message-ID:, <30795301.1075855687494.JavaMail...\n",
       "10        [Message-ID:, <33076797.1075855687515.JavaMail...\n",
       "11        [Message-ID:, <25459584.1075855687536.JavaMail...\n",
       "12        [Message-ID:, <13116875.1075855687561.JavaMail...\n",
       "13        [Message-ID:, <2707340.1075855687584.JavaMail....\n",
       "14        [Message-ID:, <2465689.1075855687605.JavaMail....\n",
       "15        [Message-ID:, <1115198.1075855687626.JavaMail....\n",
       "16        [Message-ID:, <19773657.1075855687649.JavaMail...\n",
       "17        [Message-ID:, <7391389.1075855378477.JavaMail....\n",
       "18        [Message-ID:, <12759088.1075855687671.JavaMail...\n",
       "19        [Message-ID:, <29177675.1075855687692.JavaMail...\n",
       "20        [Message-ID:, <24729148.1075855687713.JavaMail...\n",
       "21        [Message-ID:, <17610321.1075855687735.JavaMail...\n",
       "22        [Message-ID:, <26575732.1075855687756.JavaMail...\n",
       "23        [Message-ID:, <15294346.1075855687778.JavaMail...\n",
       "24        [Message-ID:, <25140503.1075855687800.JavaMail...\n",
       "25        [Message-ID:, <19034252.1075855687825.JavaMail...\n",
       "26        [Message-ID:, <719350.1075855687850.JavaMail.e...\n",
       "27        [Message-ID:, <10523086.1075855687873.JavaMail...\n",
       "28        [Message-ID:, <8572706.1075855378498.JavaMail....\n",
       "29        [Message-ID:, <29665600.1075855687895.JavaMail...\n",
       "                                ...                        \n",
       "517371    [Message-ID:, <537849.1075842029343.JavaMail.e...\n",
       "517372    [Message-ID:, <13493029.1075842029366.JavaMail...\n",
       "517373    [Message-ID:, <16498082.1075842029389.JavaMail...\n",
       "517374    [Message-ID:, <22995838.1075842029414.JavaMail...\n",
       "517375    [Message-ID:, <11108760.1075842029437.JavaMail...\n",
       "517376    [Message-ID:, <8076849.1075842029460.JavaMail....\n",
       "517377    [Message-ID:, <19930331.1075842029483.JavaMail...\n",
       "517378    [Message-ID:, <28740402.1075842029506.JavaMail...\n",
       "517379    [Message-ID:, <18413789.1075842027754.JavaMail...\n",
       "517380    [Message-ID:, <23888524.1075842029528.JavaMail...\n",
       "517381    [Message-ID:, <15646538.1075842029551.JavaMail...\n",
       "517382    [Message-ID:, <5288057.1075842029577.JavaMail....\n",
       "517383    [Message-ID:, <24246770.1075842029601.JavaMail...\n",
       "517384    [Message-ID:, <30449512.1075842029649.JavaMail...\n",
       "517385    [Message-ID:, <26316757.1075842029675.JavaMail...\n",
       "517386    [Message-ID:, <24771639.1075842029703.JavaMail...\n",
       "517387    [Message-ID:, <27114536.1075842029725.JavaMail...\n",
       "517388    [Message-ID:, <11279427.1075842029748.JavaMail...\n",
       "517389    [Message-ID:, <24358278.1075842029773.JavaMail...\n",
       "517390    [Message-ID:, <8033934.1075842027777.JavaMail....\n",
       "517391    [Message-ID:, <25508136.1075842029796.JavaMail...\n",
       "517392    [Message-ID:, <23829224.1075842029820.JavaMail...\n",
       "517393    [Message-ID:, <25622034.1075842029843.JavaMail...\n",
       "517394    [Message-ID:, <25507923.1075842029891.JavaMail...\n",
       "517395    [Message-ID:, <20245656.1075842029914.JavaMail...\n",
       "517396    [Message-ID:, <26807948.1075842029936.JavaMail...\n",
       "517397    [Message-ID:, <25835861.1075842029959.JavaMail...\n",
       "517398    [Message-ID:, <28979867.1075842029988.JavaMail...\n",
       "517399    [Message-ID:, <22052556.1075842030013.JavaMail...\n",
       "517400    [Message-ID:, <28618979.1075842030037.JavaMail...\n",
       "Name: tokens, Length: 517401, dtype: object"
      ]
     },
     "execution_count": 43,
     "metadata": {},
     "output_type": "execute_result"
    }
   ],
   "source": [
    "enron['tokens']"
   ]
  },
  {
   "cell_type": "code",
   "execution_count": null,
   "metadata": {},
   "outputs": [],
   "source": [
    "import spacy\n",
    "from spacy.tokenizer import Tokenizer\n",
    "\n",
    "nlp = spacy.load(\"en_core_web_sm\")\n",
    "\n",
    "tokenizer = Tokenizer(nlp.vocab)"
   ]
  },
  {
   "cell_type": "code",
   "execution_count": null,
   "metadata": {},
   "outputs": [],
   "source": []
  },
  {
   "cell_type": "code",
   "execution_count": 36,
   "metadata": {},
   "outputs": [
    {
     "data": {
      "text/plain": [
       "'<18782981.1075855378110.JavaMail.evans@thyme>'"
      ]
     },
     "execution_count": 36,
     "metadata": {},
     "output_type": "execute_result"
    }
   ],
   "source": [
    "enron['tokens'][0][1]"
   ]
  },
  {
   "cell_type": "code",
   "execution_count": 16,
   "metadata": {},
   "outputs": [
    {
     "data": {
      "text/plain": [
       "\"Message-ID: <18782981.1075855378110.JavaMail.evans@thyme>\\nDate: Mon, 14 May 2001 16:39:00 -0700 (PDT)\\nFrom: phillip.allen@enron.com\\nTo: tim.belden@enron.com\\nSubject: \\nMime-Version: 1.0\\nContent-Type: text/plain; charset=us-ascii\\nContent-Transfer-Encoding: 7bit\\nX-From: Phillip K Allen\\nX-To: Tim Belden <Tim Belden/Enron@EnronXGate>\\nX-cc: \\nX-bcc: \\nX-Folder: \\\\Phillip_Allen_Jan2002_1\\\\Allen, Phillip K.\\\\'Sent Mail\\nX-Origin: Allen-P\\nX-FileName: pallen (Non-Privileged).pst\\n\\nHere is our forecast\""
      ]
     },
     "execution_count": 16,
     "metadata": {},
     "output_type": "execute_result"
    }
   ],
   "source": [
    "ex.strip()"
   ]
  },
  {
   "cell_type": "code",
   "execution_count": null,
   "metadata": {},
   "outputs": [],
   "source": [
    "# Tokenizer Pipe\n",
    "\n",
    "tokens = []\n",
    "\n",
    "for doc in tokenizer.pipe(df['reviews.text'], batch_size=500):\n",
    "    doc_tokens = [token.text for token in doc]\n",
    "    tokens.append(doc_tokens)\n",
    "    \n",
    "df['tokens'] = tokens"
   ]
  }
 ],
 "metadata": {
  "kernelspec": {
   "display_name": "U4-S1-NLP (Python 3)",
   "language": "python",
   "name": "u4-s1-nlp"
  },
  "language_info": {
   "codemirror_mode": {
    "name": "ipython",
    "version": 3
   },
   "file_extension": ".py",
   "mimetype": "text/x-python",
   "name": "python",
   "nbconvert_exporter": "python",
   "pygments_lexer": "ipython3",
   "version": "3.7.3"
  },
  "toc-autonumbering": true,
  "toc-showcode": false,
  "toc-showmarkdowntxt": false
 },
 "nbformat": 4,
 "nbformat_minor": 2
}
